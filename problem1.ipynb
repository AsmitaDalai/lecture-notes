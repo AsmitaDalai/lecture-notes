{
  "nbformat": 4,
  "nbformat_minor": 0,
  "metadata": {
    "kernelspec": {
      "display_name": "Python 3",
      "language": "python",
      "name": "python3"
    },
    "language_info": {
      "codemirror_mode": {
        "name": "ipython",
        "version": 3
      },
      "file_extension": ".py",
      "mimetype": "text/x-python",
      "name": "python",
      "nbconvert_exporter": "python",
      "pygments_lexer": "ipython3",
      "version": "3.7.4"
    },
    "colab": {
      "name": "problem1.ipynb",
      "provenance": []
    }
  },
  "cells": [
    {
      "cell_type": "markdown",
      "metadata": {
        "deletable": false,
        "editable": false,
        "nbgrader": {
          "cell_type": "markdown",
          "checksum": "d76d15d4d63ec4296a694b256a08e200",
          "grade": false,
          "grade_id": "jupyter",
          "locked": true,
          "schema_version": 3,
          "solution": false
        },
        "id": "1CmiRQSfLXN2"
      },
      "source": [
        "# Python for Data Science Bootcamp\n",
        "## Mini Project 1\n",
        "\n",
        "NOTE: This mini project has 4 problems.  Please write your code in the designated portion of the autograded answer cell.\n",
        "\n",
        "For this problem set, we'll be using the Jupyter notebook and nbgrader:\n",
        "\n",
        "![](https://github.com/Python-for-Data-Science-Bootcamp/mp1-template/blob/master/jupyter.png?raw=1)\n",
        "\n",
        "©2020 Luis Morales. All rights reserved. \n",
        "\n",
        "## Problem 1 (1 point)\n",
        "\n",
        "Given a list of integers, return indices of the two numbers such that they add up to a specific target. The indices should be in an increasing order. You may assume that each input would have exactly one solution, and you may not use the same element twice."
      ]
    },
    {
      "cell_type": "code",
      "metadata": {
        "deletable": false,
        "nbgrader": {
          "cell_type": "code",
          "checksum": "22047526e964f974d09c91bcc8577daa",
          "grade": false,
          "grade_id": "twosum",
          "locked": false,
          "schema_version": 3,
          "solution": true,
          "task": false
        },
        "id": "D6PhnXP-LXN6"
      },
      "source": [
        "def TwoSum(nums, target):\n",
        "  dictionary = dict()\n",
        "  pos = 0\n",
        "  while pos < len(nums):\n",
        "    if (target - nums[pos]) not in dictionary:\n",
        "      dictionary[nums[pos]] = pos\n",
        "      pos += 1\n",
        "    else:\n",
        "      return [dictionary[target - nums[pos]], pos]\n",
        "  raise NotImplementedError()"
      ],
      "execution_count": null,
      "outputs": []
    },
    {
      "cell_type": "code",
      "metadata": {
        "deletable": false,
        "editable": false,
        "nbgrader": {
          "cell_type": "code",
          "checksum": "2524c2545e6b506449b10d66b091dcb3",
          "grade": true,
          "grade_id": "twosumtest",
          "locked": true,
          "points": 1,
          "schema_version": 3,
          "solution": false,
          "task": false
        },
        "id": "cEpxntxyLXN8"
      },
      "source": [
        "'''this TwoSum function should pass the following tests'''\n",
        "assert (TwoSum([2, 7, 11, 15],9)==[0,1])\n",
        "assert (TwoSum([3,2,4],6)==[1,2])\n",
        "assert (TwoSum([0,4,3,0],0)==[0,3])\n",
        "assert (TwoSum([-1,-2,-3,-4,-5],-8)==[2,4])"
      ],
      "execution_count": null,
      "outputs": []
    },
    {
      "cell_type": "markdown",
      "metadata": {
        "deletable": false,
        "editable": false,
        "nbgrader": {
          "cell_type": "markdown",
          "checksum": "bd4cb02c3d6d2c86b5d96de849d7463d",
          "grade": false,
          "grade_id": "cell-7b7b8b2b7e456082",
          "locked": true,
          "schema_version": 3,
          "solution": false,
          "task": false
        },
        "id": "j2wSqS-dLXN9"
      },
      "source": [
        "## Problem 2 (1 point)\n",
        "\n",
        "Given a 32-bit signed integer, reverse digits of an integer. If the return number is outside this range [−2^31,2^31−1], then return 0.\n",
        "\n",
        "example: input 12345 output 54321"
      ]
    },
    {
      "cell_type": "code",
      "metadata": {
        "deletable": false,
        "nbgrader": {
          "cell_type": "code",
          "checksum": "43fe17f9a240d5432507cf9cd5a7603e",
          "grade": false,
          "grade_id": "reverse",
          "locked": false,
          "schema_version": 3,
          "solution": true
        },
        "id": "pFhOoevSLXN-"
      },
      "source": [
        "def myreverse(x):\n",
        "    y = str(x)\n",
        "    rev = y[::-1]\n",
        "    if y[0] == '-':\n",
        "      z = int('-' + rev.replace('-',''))\n",
        "    else:\n",
        "      z = int(rev)\n",
        "    if z in range(-2**31, 2**31):\n",
        "      return z\n",
        "    else:\n",
        "      return 0\n",
        "    raise NotImplementedError()"
      ],
      "execution_count": null,
      "outputs": []
    },
    {
      "cell_type": "code",
      "metadata": {
        "deletable": false,
        "editable": false,
        "nbgrader": {
          "cell_type": "code",
          "checksum": "3df143d6bdb40933f442197a49966c3a",
          "grade": true,
          "grade_id": "reversetest",
          "locked": false,
          "points": 1,
          "schema_version": 3,
          "solution": false
        },
        "id": "aBYbqNoiLXN_"
      },
      "source": [
        "assert(myreverse(120)==21)\n",
        "assert(myreverse(123)==321)\n",
        "assert(myreverse(-123)==-321)\n",
        "assert(myreverse(1534236469)==0)"
      ],
      "execution_count": null,
      "outputs": []
    },
    {
      "cell_type": "markdown",
      "metadata": {
        "deletable": false,
        "editable": false,
        "nbgrader": {
          "cell_type": "markdown",
          "checksum": "ef000718221cde156c340a3d33df27e8",
          "grade": false,
          "grade_id": "cell-4c6accaf71092949",
          "locked": true,
          "schema_version": 3,
          "solution": false
        },
        "id": "k36c6OPNLXOA"
      },
      "source": [
        "## Problem 3 (1 point)\n",
        "\n",
        "Write a function to find the longest common prefix string amongst a list of strings. If there is no common prefix, return an empty string ''.\n",
        "\n",
        "example: input ['what','where','who'] output 'wh'"
      ]
    },
    {
      "cell_type": "code",
      "metadata": {
        "deletable": false,
        "nbgrader": {
          "cell_type": "code",
          "checksum": "59e4fbb80dd6cc50674b35f776cb7f92",
          "grade": false,
          "grade_id": "longestpre",
          "locked": false,
          "schema_version": 3,
          "solution": true
        },
        "id": "U-gtQgDILXOB"
      },
      "source": [
        "def longestCommonPrefix(strs):\n",
        "    import re\n",
        "    list1 = strs[0];\n",
        "    final = [];\n",
        "    n=0;\n",
        "    char_count = {};\n",
        "    prefix = [ list1[0:i] for i in range(1, len(list1)+1)]\n",
        "    for i in prefix:\n",
        "      for j in strs[1:]:\n",
        "        m = re.match(i,j)\n",
        "        if m:\n",
        "          char_count[m.group()] = char_count.get(m.group(), 0 ) + 1\n",
        "        a = sorted(char_count.items(), key=lambda x: x[1], reverse = True)\n",
        "    for p,l in enumerate(a):\n",
        "      if l[1] >= len(strs)-1:\n",
        "        final.clear()\n",
        "        final.append(l[0])\n",
        "    if len(final) > 0:\n",
        "      return final[0]\n",
        "    else:\n",
        "      return \"\""
      ],
      "execution_count": 1,
      "outputs": []
    },
    {
      "cell_type": "code",
      "metadata": {
        "deletable": false,
        "editable": false,
        "nbgrader": {
          "cell_type": "code",
          "checksum": "35d33bae7e31c0a09371f015d9fc0b19",
          "grade": true,
          "grade_id": "longestpretest",
          "locked": false,
          "points": 1,
          "schema_version": 3,
          "solution": false
        },
        "id": "YytqZ5CaLXOC"
      },
      "source": [
        "assert longestCommonPrefix([\"flower\",\"flow\",\"flight\"])=='fl'\n",
        "assert longestCommonPrefix(['what','where','who'] )=='wh'\n",
        "assert longestCommonPrefix([\"Pincho\", \"Pina\", \"Pirata\"])==\"Pi\"\n",
        "assert longestCommonPrefix([\"Yuca\", \"Name\", \"Guayaba\"])==\"\""
      ],
      "execution_count": 3,
      "outputs": []
    },
    {
      "cell_type": "markdown",
      "metadata": {
        "deletable": false,
        "editable": false,
        "nbgrader": {
          "cell_type": "markdown",
          "checksum": "573be8a156800ee5c68fec429b840c2c",
          "grade": false,
          "grade_id": "cell-b7d6b8583ec5a971",
          "locked": true,
          "schema_version": 3,
          "solution": false,
          "task": false
        },
        "id": "RrXAH9DzLXOD"
      },
      "source": [
        "## Problem 4 (1 point)\n",
        "\n",
        "There are 13 lamps on the table. Starting from 1, we turn off the lamp at every 5th, when the count reach 13, start from 1 again. Write a function that return the order of lamps being turned off. In this case, the return list would be [5, 10, 2, 8, 1, 9, 4, 13, 12, 3, 7, 11, 6]. Note that the turn-off lamps would not count again."
      ]
    },
    {
      "cell_type": "code",
      "metadata": {
        "deletable": false,
        "nbgrader": {
          "cell_type": "code",
          "checksum": "bc1f6b851894a3cc7472c4f84d54e737",
          "grade": false,
          "grade_id": "lamp",
          "locked": false,
          "schema_version": 3,
          "solution": true,
          "task": false
        },
        "id": "sdZZL4e_LXOE"
      },
      "source": [
        "def turn_off_order():\n",
        "    # YOUR CODE HERE\n",
        "    lamp = [1,2,3,4,5,6,7,8,9,10,11,12,13];\n",
        "    order= [];\n",
        "    turned_off = [];\n",
        "    counter1 = 0;\n",
        "    counter2 = 0;\n",
        "    while len(lamp) != 0:\n",
        "      counter1 = counter1+1\n",
        "      counter2 = counter2+1\n",
        "      if counter2%5 == 0:\n",
        "        order.append(lamp[counter1-1])\n",
        "        turned_off.append(lamp[counter1-1])\n",
        "      if counter1 == len(lamp):\n",
        "        for i in turned_off:\n",
        "            lamp.remove(i)\n",
        "        turned_off.clear()\n",
        "        counter1 = 0\n",
        "    return order\n",
        "    raise NotImplementedError()"
      ],
      "execution_count": null,
      "outputs": []
    },
    {
      "cell_type": "code",
      "metadata": {
        "deletable": false,
        "editable": false,
        "nbgrader": {
          "cell_type": "code",
          "checksum": "233661aca01809ca855f09781df1fda9",
          "grade": true,
          "grade_id": "lamptest",
          "locked": true,
          "points": 1,
          "schema_version": 3,
          "solution": false,
          "task": false
        },
        "id": "lkJtthZELXOE"
      },
      "source": [
        "assert turn_off_order() == [5, 10, 2, 8, 1, 9, 4, 13, 12, 3, 7, 11, 6]"
      ],
      "execution_count": null,
      "outputs": []
    }
  ]
}